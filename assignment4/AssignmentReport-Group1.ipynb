{
 "cells": [
  {
   "cell_type": "markdown",
   "metadata": {},
   "source": [
    "# Assignment 1 Report"
   ]
  },
  {
   "cell_type": "markdown",
   "metadata": {},
   "source": [
    "This is an outline for your report to ease the amount of work required to create your report. Jupyter notebook supports markdown, and I recommend you to check out this [cheat sheet](https://github.com/adam-p/markdown-here/wiki/Markdown-Cheatsheet). If you are not familiar with markdown.\n",
    "\n",
    "Before delivery, **remember to convert this file to PDF**. You can do it in two ways:\n",
    "1. Print the webpage (ctrl+P or cmd+P)\n",
    "2. Export with latex. This is somewhat more difficult, but you'll get somehwat of a \"prettier\" PDF. Go to File -> Download as -> PDF via LaTeX. You might have to install nbconvert and pandoc through conda; `conda install nbconvert pandoc`."
   ]
  },
  {
   "cell_type": "markdown",
   "metadata": {},
   "source": [
    "# Task 1"
   ]
  },
  {
   "cell_type": "markdown",
   "metadata": {},
   "source": [
    "## task 1a)\n",
    "\n",
    "Intersection over Union (IoU) is a measure of how much our predicted boundry overlaps with the ground truth. IoU is defined as \n",
    "$$IoU = \\frac{Area\\,of\\,overlap}{Area\\,of\\,union}$$\n",
    "![](images/intersection_union.png)"
   ]
  },
  {
   "cell_type": "markdown",
   "metadata": {},
   "source": [
    "## task 1b)\n",
    "\n",
    "$$Precision = \\frac{True\\,Positive}{All\\,Positive} = \\frac{True\\, Positive}{True\\,Positive + False\\,Positive}$$\n",
    "\n",
    "$$Recall = \\frac{True\\,Positive}{All\\,Cases} = \\frac{True\\,Positive}{True\\,Positive + False\\,Negative}$$\n",
    "\n",
    "In terms of object detection a true positive is when the model correctly detects and classifies an object.\n",
    "A false positive, means the model detects and classifies an object which is not correct.\n",
    "\n",
    "## task 1c)\n",
    "\n",
    "Class 1:  \n",
    "\n",
    "|          |     |     |     |     |     |     |     |     |     |     |    |\n",
    "|----------|-----|-----|-----|-----|-----|-----|-----|-----|-----|-----|----|\n",
    "|Recall    | 0.0 | 0.1 | 0.2 | 0.3 | 0.4 | 0.5 | 0.6 | 0.7 | 0.8 | 0.9 | 1.0|\n",
    "|Precision | 1.0 | 1.0 | 1.0 | 1.0 | 1.0 | 1.0 | 1.0 | 0.5 | 0.5 | 0.5 | 0.2|\n",
    "\n",
    "$AP_1 = 1/11 * (7*1 + 3*0.5 + 1*0.2) = 0.79$\n",
    "\n",
    "Class 2:  \n",
    "|          |     |     |     |     |     |     |     |     |     |     |    |\n",
    "|----------|-----|-----|-----|-----|-----|-----|-----|-----|-----|-----|----|\n",
    "Recall    | 0.0 | 0.1 | 0.2 | 0.3 | 0.4 | 0.5 | 0.6 | 0.7 | 0.8 | 0.9 | 1.0\n",
    "Precision | 1.0 | 1.0 | 1.0 | 1.0 | 0.8 | 0.6 | 0.6 | 0.5 | 0.5 | 0.5 | 0.2\n",
    "\n",
    "$AP_2 = 1/11 * (4*1 + 1*0.8 + 2*0.6 + 3*0.5 + 1*0.2) = 0.70$\n"
   ]
  },
  {
   "cell_type": "markdown",
   "metadata": {},
   "source": [
    "# Task 2\n",
    "\n",
    "### Task 2f)\n",
    "![](task2/precision_recall_curve.png)"
   ]
  },
  {
   "cell_type": "markdown",
   "metadata": {},
   "source": [
    "# Task 3"
   ]
  },
  {
   "cell_type": "markdown",
   "metadata": {},
   "source": [
    "### Task 3a)\n",
    "The filtering operation is called **non-maximum supression** (nms).\n",
    "\n",
    "### Task 3b)\n",
    "The statement is **false**. The deeper layers has a lower resulution and is responsible for detecting the larger objects.\n",
    "\n",
    "### Task 3c)\n",
    "SSD use different bounding box aspect ratios at the same spatial location because we want our model to detect objects of different shapes. E.g. a tall bounding box would match well with a tree or a pedestrian, but not with a car or a dog. Using different default boxes at the same location gives more predictions, but encourage each prediction to predict shapes closer to the corresponding default box. This leads to more diverse and more stable predictions during training.\n",
    "\n",
    "\n",
    "### Task 3d)\n",
    "The main difference between SSD and YOLO is that SSD adds several feature layers which decrease in size progressively and allow predictions of detections at multiple scales. YOLO on the other hand, operates on a single scale feature map.\n",
    "\n",
    "### Task 3e)\n",
    "6 boxes at 38x38 locations gives in total $6*38*38 = 8664$ boxes.\n",
    "\n",
    "### Task 3f)\n",
    "Total number of anchor boxes:\n",
    "$$6*38*38 + 6*19*19 + 6*10*10 + 6*5*5 + 6*3*3 + 6*1*1 = 11640$$\n"
   ]
  },
  {
   "cell_type": "markdown",
   "metadata": {},
   "source": [
    "# Task 4"
   ]
  },
  {
   "cell_type": "markdown",
   "metadata": {},
   "source": [
    "## Task 4b)\n",
    "\n",
    "FILL IN ANSWER. \n",
    "\n",
    "## Task 4c)\n",
    "FILL IN ANSWER. \n",
    "\n",
    "\n",
    "## Task 4d)\n",
    "FILL IN ANSWER. \n",
    "\n",
    "\n",
    "## Task 4e)\n",
    "FILL IN ANSWER. \n",
    "\n",
    "\n",
    "## Task 4f)\n",
    "FILL IN ANSWER. "
   ]
  }
 ],
 "metadata": {
  "interpreter": {
   "hash": "785aac50ee504a037ddad7b92f32922bddd10f8ee902056beff3b82443024d81"
  },
  "kernelspec": {
   "display_name": "Python 3.8.1 64-bit ('py38': conda)",
   "language": "python",
   "name": "python3"
  },
  "language_info": {
   "codemirror_mode": {
    "name": "ipython",
    "version": 3
   },
   "file_extension": ".py",
   "mimetype": "text/x-python",
   "name": "python",
   "nbconvert_exporter": "python",
   "pygments_lexer": "ipython3",
   "version": "3.6.13"
  }
 },
 "nbformat": 4,
 "nbformat_minor": 4
}
